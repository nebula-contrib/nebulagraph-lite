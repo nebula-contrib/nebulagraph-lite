{
 "cells": [
  {
   "cell_type": "markdown",
   "metadata": {
    "id": "rPs-fMYMwoGD"
   },
   "source": [
    "Start NebulaGraph with [NebulaGraph-Lite](https://github.com/wey-gu/nebulagraph-lite)"
   ]
  },
  {
   "cell_type": "code",
   "execution_count": null,
   "metadata": {
    "id": "xUypluvKsQOu"
   },
   "outputs": [],
   "source": [
    "%pip install ../../.."
   ]
  },
  {
   "cell_type": "code",
   "execution_count": null,
   "metadata": {
    "id": "Ddc0L7btwd96"
   },
   "outputs": [],
   "source": [
    "from nebulagraph_lite import nebulagraph_let"
   ]
  },
  {
   "cell_type": "code",
   "execution_count": null,
   "metadata": {
    "colab": {
     "base_uri": "https://localhost:8080/"
    },
    "id": "RfBmipVrsReV",
    "outputId": "721e4cbe-c27f-4aa7-f956-f327742a75a1"
   },
   "outputs": [],
   "source": [
    "n = nebulagraph_let(\n",
    "    debug=True, modelscope=True, base_path=\"../../../.nebulagraph/lite\"\n",
    ")"
   ]
  },
  {
   "cell_type": "code",
   "execution_count": null,
   "metadata": {
    "colab": {
     "base_uri": "https://localhost:8080/"
    },
    "id": "HMgja2TisVFB",
    "outputId": "06d7607d-ea60-4007-973c-3e455af183b4"
   },
   "outputs": [],
   "source": [
    "n.start()"
   ]
  },
  {
   "cell_type": "code",
   "execution_count": null,
   "metadata": {
    "colab": {
     "base_uri": "https://localhost:8080/"
    },
    "id": "DuF2eYbPsWHX",
    "outputId": "32e9ef41-e6be-450c-80aa-c3a12df1d854"
   },
   "outputs": [],
   "source": [
    "n.docker_ps()"
   ]
  },
  {
   "cell_type": "markdown",
   "metadata": {
    "id": "NRCyJEwrw3Bn"
   },
   "source": [
    "## Play with ipython-ngql"
   ]
  },
  {
   "cell_type": "code",
   "execution_count": null,
   "metadata": {
    "colab": {
     "base_uri": "https://localhost:8080/"
    },
    "id": "xlnmvzvLw8gc",
    "outputId": "82b91249-0dea-4a59-c268-96cedd589ed7"
   },
   "outputs": [],
   "source": [
    "%pip install ipython-ngql pyvis"
   ]
  },
  {
   "cell_type": "code",
   "execution_count": null,
   "metadata": {
    "id": "DpvYClRzxAUl"
   },
   "outputs": [],
   "source": [
    "%load_ext ngql"
   ]
  },
  {
   "cell_type": "code",
   "execution_count": null,
   "metadata": {
    "colab": {
     "base_uri": "https://localhost:8080/",
     "height": 99
    },
    "id": "vQm4g62Kw-Er",
    "outputId": "cd1a4685-3f91-4fe9-954c-e6cad302b7a7"
   },
   "outputs": [],
   "source": [
    "%ngql --address 127.0.0.1 --port 9669 --user root --password nebula"
   ]
  },
  {
   "cell_type": "code",
   "execution_count": null,
   "metadata": {
    "colab": {
     "base_uri": "https://localhost:8080/",
     "height": 81
    },
    "id": "czdZIMgety6T",
    "outputId": "44cc3257-b53c-4181-f83f-1af52bbee9d2"
   },
   "outputs": [],
   "source": [
    "%ngql SHOW HOSTS;"
   ]
  },
  {
   "cell_type": "markdown",
   "metadata": {
    "id": "xkrTaPlB0OT6"
   },
   "source": [
    "## Next Step\n",
    "\n",
    "Follow https://docs.nebula-graph.io/ !"
   ]
  },
  {
   "cell_type": "code",
   "execution_count": null,
   "metadata": {
    "colab": {
     "base_uri": "https://localhost:8080/",
     "height": 990
    },
    "id": "LZ1xZL7XVBUn",
    "outputId": "35875395-a6fa-4741-a9f8-87ff060e9ec9"
   },
   "outputs": [],
   "source": [
    "%%ngql\n",
    "MATCH ()-[e]->() RETURN e LIMIT 30"
   ]
  },
  {
   "cell_type": "code",
   "execution_count": null,
   "metadata": {
    "colab": {
     "base_uri": "https://localhost:8080/",
     "height": 551
    },
    "id": "fQb_zS7oVHvT",
    "outputId": "25115c50-6934-4492-8681-921490915067"
   },
   "outputs": [],
   "source": [
    "%ng_draw"
   ]
  },
  {
   "cell_type": "code",
   "execution_count": null,
   "metadata": {
    "id": "FKXupDbtVS1Q"
   },
   "outputs": [],
   "source": []
  }
 ],
 "metadata": {
  "colab": {
   "provenance": []
  },
  "kernelspec": {
   "display_name": "Python 3",
   "name": "python3"
  },
  "language_info": {
   "name": "python"
  }
 },
 "nbformat": 4,
 "nbformat_minor": 0
}
