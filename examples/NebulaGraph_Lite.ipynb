{
 "cells": [
  {
   "cell_type": "markdown",
   "metadata": {
    "id": "rPs-fMYMwoGD"
   },
   "source": [
    "Start NebulaGraph with [NebulaGraph-Lite](https://github.com/wey-gu/nebulagraph-lite)\n",
    "\n",
    "We could run it on any Linux machine, Jupyter Notebook, or Docker.\n",
    "\n",
    "If you don't have a Linux machine, we could play on the free(or paid) tier [Google Colab](https://colab.research.google.com/)/ [ModelScope Notebook](https://notebook.modelscope.io/).\n",
    "\n",
    "## Run on Google Colab\n",
    "\n",
    "1. Click [![Open in Colab](https://colab.research.google.com/assets/colab-badge.svg)](https://colab.research.google.com/github/nebula-contrib/nebulagraph-lite/blob/main/examples/NebulaGraph_Lite.ipynb) to open this notebook on Google Colab.\n",
    "\n",
    "## Run on ModelScope Notebook\n",
    "\n",
    "1. Open [![ModelScope](https://img.shields.io/badge/ModelScope-Notebook-blue?logo=jupyter)](https://modelscope.cn/my/mynotebook/preset), and click `启动` to start a notebook env.\n",
    "2. Upload [this notebook](https://github.com/wey-gu/nebulagraph-lite/blob/main/examples/NebulaGraph_Lite.ipynb) and open it.\n"
   ]
  },
  {
   "cell_type": "code",
   "execution_count": 1,
   "metadata": {
    "ExecutionIndicator": {
     "show": false
    },
    "execution": {
     "iopub.execute_input": "2024-03-06T05:02:04.883977Z",
     "iopub.status.busy": "2024-03-06T05:02:04.883205Z",
     "iopub.status.idle": "2024-03-06T05:02:12.857487Z",
     "shell.execute_reply": "2024-03-06T05:02:12.855290Z",
     "shell.execute_reply.started": "2024-03-06T05:02:04.883905Z"
    },
    "id": "xUypluvKsQOu",
    "tags": []
   },
   "outputs": [
    {
     "name": "stdout",
     "output_type": "stream",
     "text": [
      "Looking in indexes: https://mirrors.aliyun.com/pypi/simple\n",
      "Collecting nebulagraph_lite\n",
      "  Downloading https://mirrors.aliyun.com/pypi/packages/32/ca/a8c72c10dde8ff013ee283c00f0a5c0fa4bb680c966385dcfd54f9d7e136/nebulagraph_lite-0.2.1-py3-none-any.whl (16 kB)\n",
      "Collecting udocker==1.3.13 (from nebulagraph_lite)\n",
      "  Downloading https://mirrors.aliyun.com/pypi/packages/28/f9/34a41eded7f2277c198286bdaa08b2b1ca619e56b1c5afccc1700fe41479/udocker-1.3.13-py2.py3-none-any.whl (118 kB)\n",
      "\u001b[2K     \u001b[90m━━━━━━━━━━━━━━━━━━━━━━━━━━━━━━━━━━━━━━━\u001b[0m \u001b[32m118.6/118.6 kB\u001b[0m \u001b[31m9.7 MB/s\u001b[0m eta \u001b[36m0:00:00\u001b[0m\n",
      "\u001b[?25hRequirement already satisfied: psutil>=5.9.6 in /opt/conda/lib/python3.10/site-packages (from nebulagraph_lite) (5.9.7)\n",
      "Collecting nebula3-python>=3.5.0 (from nebulagraph_lite)\n",
      "  Downloading https://mirrors.aliyun.com/pypi/packages/17/9c/46735c3f5e3dd62e8d568cd95114cc940896209b1eac75d16b5865b84f3f/nebula3_python-3.5.0-py3-none-any.whl (326 kB)\n",
      "\u001b[2K     \u001b[90m━━━━━━━━━━━━━━━━━━━━━━━━━━━━━━━━━━━━━━━\u001b[0m \u001b[32m326.3/326.3 kB\u001b[0m \u001b[31m7.3 MB/s\u001b[0m eta \u001b[36m0:00:00\u001b[0ma \u001b[36m0:00:01\u001b[0m\n",
      "\u001b[?25hRequirement already satisfied: future>=0.18.0 in /opt/conda/lib/python3.10/site-packages (from nebula3-python>=3.5.0->nebulagraph_lite) (0.18.3)\n",
      "Collecting httplib2>=0.20.0 (from nebula3-python>=3.5.0->nebulagraph_lite)\n",
      "  Downloading https://mirrors.aliyun.com/pypi/packages/a8/6c/d2fbdaaa5959339d53ba38e94c123e4e84b8fbc4b84beb0e70d7c1608486/httplib2-0.22.0-py3-none-any.whl (96 kB)\n",
      "\u001b[2K     \u001b[90m━━━━━━━━━━━━━━━━━━━━━━━━━━━━━━━━━━━━━━━━\u001b[0m \u001b[32m96.9/96.9 kB\u001b[0m \u001b[31m13.4 MB/s\u001b[0m eta \u001b[36m0:00:00\u001b[0m\n",
      "\u001b[?25hRequirement already satisfied: pytz>=2021.1 in /opt/conda/lib/python3.10/site-packages (from nebula3-python>=3.5.0->nebulagraph_lite) (2023.3.post1)\n",
      "Requirement already satisfied: six>=1.16.0 in /opt/conda/lib/python3.10/site-packages (from nebula3-python>=3.5.0->nebulagraph_lite) (1.16.0)\n",
      "Requirement already satisfied: pyparsing!=3.0.0,!=3.0.1,!=3.0.2,!=3.0.3,<4,>=2.4.2 in /opt/conda/lib/python3.10/site-packages (from httplib2>=0.20.0->nebula3-python>=3.5.0->nebulagraph_lite) (3.1.1)\n",
      "\u001b[33mDEPRECATION: pytorch-lightning 1.7.7 has a non-standard dependency specifier torch>=1.9.*. pip 24.0 will enforce this behaviour change. A possible replacement is to upgrade to a newer version of pytorch-lightning or contact the author to suggest that they release a version with a conforming dependency specifiers. Discussion can be found at https://github.com/pypa/pip/issues/12063\u001b[0m\u001b[33m\n",
      "\u001b[0mInstalling collected packages: udocker, httplib2, nebula3-python, nebulagraph_lite\n",
      "Successfully installed httplib2-0.22.0 nebula3-python-3.5.0 nebulagraph_lite-0.2.1 udocker-1.3.13\n",
      "\u001b[33mWARNING: Running pip as the 'root' user can result in broken permissions and conflicting behaviour with the system package manager. It is recommended to use a virtual environment instead: https://pip.pypa.io/warnings/venv\u001b[0m\u001b[33m\n",
      "\u001b[0m\n",
      "\u001b[1m[\u001b[0m\u001b[34;49mnotice\u001b[0m\u001b[1;39;49m]\u001b[0m\u001b[39;49m A new release of pip is available: \u001b[0m\u001b[31;49m23.3.2\u001b[0m\u001b[39;49m -> \u001b[0m\u001b[32;49m24.0\u001b[0m\n",
      "\u001b[1m[\u001b[0m\u001b[34;49mnotice\u001b[0m\u001b[1;39;49m]\u001b[0m\u001b[39;49m To update, run: \u001b[0m\u001b[32;49mpip install --upgrade pip\u001b[0m\n",
      "Note: you may need to restart the kernel to use updated packages.\n"
     ]
    }
   ],
   "source": [
    "%pip install nebulagraph_lite"
   ]
  },
  {
   "cell_type": "code",
   "execution_count": null,
   "metadata": {
    "ExecutionIndicator": {
     "show": true
    },
    "colab": {
     "base_uri": "https://localhost:8080/",
     "height": 544
    },
    "id": "pgjB7m05UHnJ",
    "outputId": "f2f20385-9387-4352-a535-6daee4b7a3c4",
    "tags": []
   },
   "outputs": [],
   "source": [
    "# or from main branch\n",
    "# %pip install git+https://github.com/wey-gu/nebulagraph-lite.git"
   ]
  },
  {
   "cell_type": "code",
   "execution_count": 2,
   "metadata": {
    "execution": {
     "iopub.execute_input": "2024-03-06T05:02:12.861601Z",
     "iopub.status.busy": "2024-03-06T05:02:12.860598Z",
     "iopub.status.idle": "2024-03-06T05:02:12.916287Z",
     "shell.execute_reply": "2024-03-06T05:02:12.913983Z",
     "shell.execute_reply.started": "2024-03-06T05:02:12.861527Z"
    },
    "id": "Ddc0L7btwd96",
    "tags": []
   },
   "outputs": [],
   "source": [
    "from nebulagraph_lite import nebulagraph_let"
   ]
  },
  {
   "cell_type": "code",
   "execution_count": 3,
   "metadata": {
    "colab": {
     "base_uri": "https://localhost:8080/"
    },
    "execution": {
     "iopub.execute_input": "2024-03-06T05:02:16.098259Z",
     "iopub.status.busy": "2024-03-06T05:02:16.097380Z",
     "iopub.status.idle": "2024-03-06T05:02:26.707433Z",
     "shell.execute_reply": "2024-03-06T05:02:26.705612Z",
     "shell.execute_reply.started": "2024-03-06T05:02:16.098121Z"
    },
    "id": "RfBmipVrsReV",
    "outputId": "721e4cbe-c27f-4aa7-f956-f327742a75a1",
    "tags": []
   },
   "outputs": [
    {
     "name": "stderr",
     "output_type": "stream",
     "text": [
      "2024-03-06 13:02:19,011 - modelscope - INFO - PyTorch version 2.1.2+cpu Found.\n",
      "2024-03-06 13:02:19,016 - modelscope - INFO - TensorFlow version 2.14.0 Found.\n",
      "2024-03-06 13:02:19,018 - modelscope - INFO - Loading ast index from /mnt/workspace/.cache/modelscope/ast_indexer\n",
      "2024-03-06 13:02:19,019 - modelscope - INFO - No valid ast index found from /mnt/workspace/.cache/modelscope/ast_indexer, generating ast index from prebuilt!\n",
      "2024-03-06 13:02:19,097 - modelscope - INFO - Loading done! Current index file version is 1.12.0, with md5 f2107f07efd63ab20c59bbe69eed6202 and a total number of 964 components indexed\n",
      "/opt/conda/lib/python3.10/site-packages/tqdm/auto.py:21: TqdmWarning: IProgress not found. Please update jupyter and ipywidgets. See https://ipywidgets.readthedocs.io/en/stable/user_install.html\n",
      "  from .autonotebook import tqdm as notebook_tqdm\n",
      "2024-03-06 13:02:21,243 - modelscope - WARNING - Using the master branch is fragile, please use it with caution!\n",
      "2024-03-06 13:02:21,244 - modelscope - INFO - Use user-specified model revision: master\n",
      "Downloading: 100%|██████████| 320M/320M [00:02<00:00, 133MB/s] \n",
      "2024-03-06 13:02:25,605 - modelscope - WARNING - Using the master branch is fragile, please use it with caution!\n",
      "2024-03-06 13:02:25,607 - modelscope - INFO - Use user-specified model revision: master\n",
      "Downloading: 100%|██████████| 44.1M/44.1M [00:00<00:00, 134MB/s]\n"
     ]
    }
   ],
   "source": [
    "n = nebulagraph_let(debug=False)"
   ]
  },
  {
   "cell_type": "code",
   "execution_count": 4,
   "metadata": {
    "colab": {
     "base_uri": "https://localhost:8080/"
    },
    "execution": {
     "iopub.execute_input": "2024-03-06T05:02:31.447913Z",
     "iopub.status.busy": "2024-03-06T05:02:31.446715Z",
     "iopub.status.idle": "2024-03-06T05:05:38.618455Z",
     "shell.execute_reply": "2024-03-06T05:05:38.616085Z",
     "shell.execute_reply.started": "2024-03-06T05:02:31.447842Z"
    },
    "id": "HMgja2TisVFB",
    "outputId": "06d7607d-ea60-4007-973c-3e455af183b4",
    "scrolled": true,
    "tags": []
   },
   "outputs": [
    {
     "name": "stdout",
     "output_type": "stream",
     "text": [
      "\u001b[1;3;38;2;160;81;149mInfo: loading nebulagraph_lite model from /root/.nebulagraph/lite/cache/sdfsdfoph1ofdsaofdf/nebulagraph-lite/releases/3.6.0/nebulagraph_lite.tar.gz...\u001b[0m\n",
      "\u001b[1;3;38;2;249;93;106mInfo: nebulagraph_lite model loaded successfully!\u001b[0m\n",
      "\u001b[1;3;38;2;102;81;145mSHOW TAGS: ResultSet(None)\u001b[0m\n",
      "\u001b[1;3;38;2;255;166;0mInfo: loading basketballplayer dataset...\u001b[0m\n",
      "\u001b[1;3;38;2;102;81;145mmessage: Failed to download basketballplayer dataset, please check your network connection\u001b[0m\n",
      "\u001b[1;3;38;2;160;81;149merror: <urlopen error _ssl.c:990: The handshake operation timed out>\u001b[0m\n",
      "\u001b[1;3;38;2;212;80;135murl: https://raw.githubusercontent.com/vesoft-inc/nebula-console/master/data/basketballplayer.ngql\u001b[0m\n",
      "\u001b[1;3;38;2;212;80;135m\n",
      "  _   _      _           _        ____                 _     \n",
      " | \\ | | ___| |__  _   _| | __ _ / ___|_ __ __ _ _ __ | |__  \n",
      " |  \\| |/ _ | '_ \\| | | | |/ _` | |  _| '__/ _` | '_ \\| '_ \\ \n",
      " | |\\  |  __| |_) | |_| | | (_| | |_| | | | (_| | |_) | | | |\n",
      " |_| \\_|\\___|_.__/ \\__,_|_|\\__,_|\\____|_|  \\__,_| .__/|_| |_|\n",
      "                                                |_|          \n",
      "                                                lite version\n",
      "\u001b[0m\n",
      "\u001b[1;3;38;2;102;81;145m[ OK ] nebulagraph_lite started successfully!\u001b[0m\n"
     ]
    }
   ],
   "source": [
    "n.start()"
   ]
  },
  {
   "cell_type": "code",
   "execution_count": 5,
   "metadata": {
    "colab": {
     "base_uri": "https://localhost:8080/"
    },
    "execution": {
     "iopub.execute_input": "2024-03-06T05:06:45.633485Z",
     "iopub.status.busy": "2024-03-06T05:06:45.631874Z",
     "iopub.status.idle": "2024-03-06T05:06:45.780627Z",
     "shell.execute_reply": "2024-03-06T05:06:45.778222Z",
     "shell.execute_reply.started": "2024-03-06T05:06:45.633405Z"
    },
    "id": "DuF2eYbPsWHX",
    "outputId": "32e9ef41-e6be-450c-80aa-c3a12df1d854",
    "tags": []
   },
   "outputs": [],
   "source": [
    "n.docker_ps()"
   ]
  },
  {
   "cell_type": "markdown",
   "metadata": {
    "id": "NRCyJEwrw3Bn"
   },
   "source": [
    "## Play with ipython-ngql"
   ]
  },
  {
   "cell_type": "code",
   "execution_count": 6,
   "metadata": {
    "colab": {
     "base_uri": "https://localhost:8080/"
    },
    "execution": {
     "iopub.execute_input": "2024-03-06T05:06:48.006677Z",
     "iopub.status.busy": "2024-03-06T05:06:48.005716Z",
     "iopub.status.idle": "2024-03-06T05:06:55.287000Z",
     "shell.execute_reply": "2024-03-06T05:06:55.284745Z",
     "shell.execute_reply.started": "2024-03-06T05:06:48.006609Z"
    },
    "id": "xlnmvzvLw8gc",
    "outputId": "82b91249-0dea-4a59-c268-96cedd589ed7",
    "tags": []
   },
   "outputs": [
    {
     "name": "stdout",
     "output_type": "stream",
     "text": [
      "Looking in indexes: https://mirrors.aliyun.com/pypi/simple\n",
      "Collecting ipython-ngql\n",
      "  Downloading https://mirrors.aliyun.com/pypi/packages/e5/4e/99c02b9f696bf1b2df4b657ce615a0a946b188138832877131ea1e653cef/ipython_ngql-0.8.0-py3-none-any.whl (10 kB)\n",
      "Collecting pyvis\n",
      "  Downloading https://mirrors.aliyun.com/pypi/packages/ab/4b/e37e4e5d5ee1179694917b445768bdbfb084f5a59ecd38089d3413d4c70f/pyvis-0.3.2-py3-none-any.whl (756 kB)\n",
      "\u001b[2K     \u001b[90m━━━━━━━━━━━━━━━━━━━━━━━━━━━━━━━━━━━━━━\u001b[0m \u001b[32m756.0/756.0 kB\u001b[0m \u001b[31m10.0 MB/s\u001b[0m eta \u001b[36m0:00:00\u001b[0m00:01\u001b[0m00:01\u001b[0m\n",
      "\u001b[?25hRequirement already satisfied: Jinja2 in /opt/conda/lib/python3.10/site-packages (from ipython-ngql) (3.1.2)\n",
      "Requirement already satisfied: nebula3-python>=3.5.0 in /opt/conda/lib/python3.10/site-packages (from ipython-ngql) (3.5.0)\n",
      "Requirement already satisfied: pandas in /opt/conda/lib/python3.10/site-packages (from ipython-ngql) (2.1.4)\n",
      "Requirement already satisfied: ipython>=5.3.0 in /opt/conda/lib/python3.10/site-packages (from pyvis) (8.19.0)\n",
      "Collecting jsonpickle>=1.4.1 (from pyvis)\n",
      "  Downloading https://mirrors.aliyun.com/pypi/packages/d6/be/c11f919e02622f15b942c0f2867dff6c3836ce32cd617627dda73bc9e5b7/jsonpickle-3.0.3-py3-none-any.whl (40 kB)\n",
      "\u001b[2K     \u001b[90m━━━━━━━━━━━━━━━━━━━━━━━━━━━━━━━━━━━━━━━━\u001b[0m \u001b[32m40.8/40.8 kB\u001b[0m \u001b[31m4.6 MB/s\u001b[0m eta \u001b[36m0:00:00\u001b[0m\n",
      "\u001b[?25hRequirement already satisfied: networkx>=1.11 in /opt/conda/lib/python3.10/site-packages (from pyvis) (2.8.4)\n",
      "Requirement already satisfied: decorator in /opt/conda/lib/python3.10/site-packages (from ipython>=5.3.0->pyvis) (4.4.2)\n",
      "Requirement already satisfied: jedi>=0.16 in /opt/conda/lib/python3.10/site-packages (from ipython>=5.3.0->pyvis) (0.19.1)\n",
      "Requirement already satisfied: matplotlib-inline in /opt/conda/lib/python3.10/site-packages (from ipython>=5.3.0->pyvis) (0.1.6)\n",
      "Requirement already satisfied: prompt-toolkit<3.1.0,>=3.0.41 in /opt/conda/lib/python3.10/site-packages (from ipython>=5.3.0->pyvis) (3.0.43)\n",
      "Requirement already satisfied: pygments>=2.4.0 in /opt/conda/lib/python3.10/site-packages (from ipython>=5.3.0->pyvis) (2.17.2)\n",
      "Requirement already satisfied: stack-data in /opt/conda/lib/python3.10/site-packages (from ipython>=5.3.0->pyvis) (0.6.3)\n",
      "Requirement already satisfied: traitlets>=5 in /opt/conda/lib/python3.10/site-packages (from ipython>=5.3.0->pyvis) (5.14.1)\n",
      "Requirement already satisfied: exceptiongroup in /opt/conda/lib/python3.10/site-packages (from ipython>=5.3.0->pyvis) (1.2.0)\n",
      "Requirement already satisfied: pexpect>4.3 in /opt/conda/lib/python3.10/site-packages (from ipython>=5.3.0->pyvis) (4.9.0)\n",
      "Requirement already satisfied: MarkupSafe>=2.0 in /opt/conda/lib/python3.10/site-packages (from Jinja2->ipython-ngql) (2.1.3)\n",
      "Requirement already satisfied: future>=0.18.0 in /opt/conda/lib/python3.10/site-packages (from nebula3-python>=3.5.0->ipython-ngql) (0.18.3)\n",
      "Requirement already satisfied: httplib2>=0.20.0 in /opt/conda/lib/python3.10/site-packages (from nebula3-python>=3.5.0->ipython-ngql) (0.22.0)\n",
      "Requirement already satisfied: pytz>=2021.1 in /opt/conda/lib/python3.10/site-packages (from nebula3-python>=3.5.0->ipython-ngql) (2023.3.post1)\n",
      "Requirement already satisfied: six>=1.16.0 in /opt/conda/lib/python3.10/site-packages (from nebula3-python>=3.5.0->ipython-ngql) (1.16.0)\n",
      "Requirement already satisfied: numpy<2,>=1.22.4 in /opt/conda/lib/python3.10/site-packages (from pandas->ipython-ngql) (1.26.3)\n",
      "Requirement already satisfied: python-dateutil>=2.8.2 in /opt/conda/lib/python3.10/site-packages (from pandas->ipython-ngql) (2.8.2)\n",
      "Requirement already satisfied: tzdata>=2022.1 in /opt/conda/lib/python3.10/site-packages (from pandas->ipython-ngql) (2023.4)\n",
      "Requirement already satisfied: pyparsing!=3.0.0,!=3.0.1,!=3.0.2,!=3.0.3,<4,>=2.4.2 in /opt/conda/lib/python3.10/site-packages (from httplib2>=0.20.0->nebula3-python>=3.5.0->ipython-ngql) (3.1.1)\n",
      "Requirement already satisfied: parso<0.9.0,>=0.8.3 in /opt/conda/lib/python3.10/site-packages (from jedi>=0.16->ipython>=5.3.0->pyvis) (0.8.3)\n",
      "Requirement already satisfied: ptyprocess>=0.5 in /opt/conda/lib/python3.10/site-packages (from pexpect>4.3->ipython>=5.3.0->pyvis) (0.7.0)\n",
      "Requirement already satisfied: wcwidth in /opt/conda/lib/python3.10/site-packages (from prompt-toolkit<3.1.0,>=3.0.41->ipython>=5.3.0->pyvis) (0.2.12)\n",
      "Requirement already satisfied: executing>=1.2.0 in /opt/conda/lib/python3.10/site-packages (from stack-data->ipython>=5.3.0->pyvis) (2.0.1)\n",
      "Requirement already satisfied: asttokens>=2.1.0 in /opt/conda/lib/python3.10/site-packages (from stack-data->ipython>=5.3.0->pyvis) (2.4.1)\n",
      "Requirement already satisfied: pure-eval in /opt/conda/lib/python3.10/site-packages (from stack-data->ipython>=5.3.0->pyvis) (0.2.2)\n",
      "\u001b[33mDEPRECATION: pytorch-lightning 1.7.7 has a non-standard dependency specifier torch>=1.9.*. pip 24.0 will enforce this behaviour change. A possible replacement is to upgrade to a newer version of pytorch-lightning or contact the author to suggest that they release a version with a conforming dependency specifiers. Discussion can be found at https://github.com/pypa/pip/issues/12063\u001b[0m\u001b[33m\n",
      "\u001b[0mInstalling collected packages: jsonpickle, ipython-ngql, pyvis\n",
      "Successfully installed ipython-ngql-0.8.0 jsonpickle-3.0.3 pyvis-0.3.2\n",
      "\u001b[33mWARNING: Running pip as the 'root' user can result in broken permissions and conflicting behaviour with the system package manager. It is recommended to use a virtual environment instead: https://pip.pypa.io/warnings/venv\u001b[0m\u001b[33m\n",
      "\u001b[0m\n",
      "\u001b[1m[\u001b[0m\u001b[34;49mnotice\u001b[0m\u001b[1;39;49m]\u001b[0m\u001b[39;49m A new release of pip is available: \u001b[0m\u001b[31;49m23.3.2\u001b[0m\u001b[39;49m -> \u001b[0m\u001b[32;49m24.0\u001b[0m\n",
      "\u001b[1m[\u001b[0m\u001b[34;49mnotice\u001b[0m\u001b[1;39;49m]\u001b[0m\u001b[39;49m To update, run: \u001b[0m\u001b[32;49mpip install --upgrade pip\u001b[0m\n",
      "Note: you may need to restart the kernel to use updated packages.\n"
     ]
    }
   ],
   "source": [
    "%pip install ipython-ngql pyvis"
   ]
  },
  {
   "cell_type": "code",
   "execution_count": 7,
   "metadata": {
    "execution": {
     "iopub.execute_input": "2024-03-06T05:06:59.385721Z",
     "iopub.status.busy": "2024-03-06T05:06:59.383562Z",
     "iopub.status.idle": "2024-03-06T05:06:59.610981Z",
     "shell.execute_reply": "2024-03-06T05:06:59.609353Z",
     "shell.execute_reply.started": "2024-03-06T05:06:59.385627Z"
    },
    "id": "DpvYClRzxAUl",
    "tags": []
   },
   "outputs": [],
   "source": [
    "%load_ext ngql"
   ]
  },
  {
   "cell_type": "code",
   "execution_count": 8,
   "metadata": {
    "colab": {
     "base_uri": "https://localhost:8080/",
     "height": 99
    },
    "execution": {
     "iopub.execute_input": "2024-03-06T05:07:01.937810Z",
     "iopub.status.busy": "2024-03-06T05:07:01.936242Z",
     "iopub.status.idle": "2024-03-06T05:07:01.979472Z",
     "shell.execute_reply": "2024-03-06T05:07:01.976978Z",
     "shell.execute_reply.started": "2024-03-06T05:07:01.937708Z"
    },
    "id": "vQm4g62Kw-Er",
    "outputId": "cd1a4685-3f91-4fe9-954c-e6cad302b7a7",
    "tags": []
   },
   "outputs": [
    {
     "name": "stdout",
     "output_type": "stream",
     "text": [
      "Connection Pool Created\n"
     ]
    },
    {
     "data": {
      "text/html": [
       "<div>\n",
       "<style scoped>\n",
       "    .dataframe tbody tr th:only-of-type {\n",
       "        vertical-align: middle;\n",
       "    }\n",
       "\n",
       "    .dataframe tbody tr th {\n",
       "        vertical-align: top;\n",
       "    }\n",
       "\n",
       "    .dataframe thead th {\n",
       "        text-align: right;\n",
       "    }\n",
       "</style>\n",
       "<table border=\"1\" class=\"dataframe\">\n",
       "  <thead>\n",
       "    <tr style=\"text-align: right;\">\n",
       "      <th></th>\n",
       "      <th>Name</th>\n",
       "    </tr>\n",
       "  </thead>\n",
       "  <tbody>\n",
       "    <tr>\n",
       "      <th>0</th>\n",
       "      <td>basketballplayer</td>\n",
       "    </tr>\n",
       "  </tbody>\n",
       "</table>\n",
       "</div>"
      ],
      "text/plain": [
       "               Name\n",
       "0  basketballplayer"
      ]
     },
     "execution_count": 8,
     "metadata": {},
     "output_type": "execute_result"
    }
   ],
   "source": [
    "%ngql --address 127.0.0.1 --port 9669 --user root --password nebula"
   ]
  },
  {
   "cell_type": "code",
   "execution_count": 9,
   "metadata": {
    "colab": {
     "base_uri": "https://localhost:8080/",
     "height": 81
    },
    "execution": {
     "iopub.execute_input": "2024-03-06T05:07:04.415932Z",
     "iopub.status.busy": "2024-03-06T05:07:04.414931Z",
     "iopub.status.idle": "2024-03-06T05:07:04.448238Z",
     "shell.execute_reply": "2024-03-06T05:07:04.446477Z",
     "shell.execute_reply.started": "2024-03-06T05:07:04.415848Z"
    },
    "id": "czdZIMgety6T",
    "outputId": "44cc3257-b53c-4181-f83f-1af52bbee9d2",
    "tags": []
   },
   "outputs": [
    {
     "data": {
      "text/html": [
       "<div>\n",
       "<style scoped>\n",
       "    .dataframe tbody tr th:only-of-type {\n",
       "        vertical-align: middle;\n",
       "    }\n",
       "\n",
       "    .dataframe tbody tr th {\n",
       "        vertical-align: top;\n",
       "    }\n",
       "\n",
       "    .dataframe thead th {\n",
       "        text-align: right;\n",
       "    }\n",
       "</style>\n",
       "<table border=\"1\" class=\"dataframe\">\n",
       "  <thead>\n",
       "    <tr style=\"text-align: right;\">\n",
       "      <th></th>\n",
       "      <th>Host</th>\n",
       "      <th>Port</th>\n",
       "      <th>Status</th>\n",
       "      <th>Leader count</th>\n",
       "      <th>Leader distribution</th>\n",
       "      <th>Partition distribution</th>\n",
       "      <th>Version</th>\n",
       "    </tr>\n",
       "  </thead>\n",
       "  <tbody>\n",
       "    <tr>\n",
       "      <th>0</th>\n",
       "      <td>127.0.0.1</td>\n",
       "      <td>9779</td>\n",
       "      <td>ONLINE</td>\n",
       "      <td>1</td>\n",
       "      <td>basketballplayer:1</td>\n",
       "      <td>basketballplayer:1</td>\n",
       "      <td>3.6.0</td>\n",
       "    </tr>\n",
       "  </tbody>\n",
       "</table>\n",
       "</div>"
      ],
      "text/plain": [
       "        Host  Port  Status  Leader count Leader distribution  \\\n",
       "0  127.0.0.1  9779  ONLINE             1  basketballplayer:1   \n",
       "\n",
       "  Partition distribution Version  \n",
       "0     basketballplayer:1   3.6.0  "
      ]
     },
     "execution_count": 9,
     "metadata": {},
     "output_type": "execute_result"
    }
   ],
   "source": [
    "%ngql SHOW HOSTS;"
   ]
  },
  {
   "cell_type": "markdown",
   "metadata": {
    "id": "xkrTaPlB0OT6"
   },
   "source": [
    "## Next Step\n",
    "\n",
    "Follow https://docs.nebula-graph.io/ !"
   ]
  },
  {
   "cell_type": "code",
   "execution_count": 10,
   "metadata": {
    "colab": {
     "base_uri": "https://localhost:8080/",
     "height": 990
    },
    "execution": {
     "iopub.execute_input": "2024-03-06T05:07:07.296418Z",
     "iopub.status.busy": "2024-03-06T05:07:07.295318Z",
     "iopub.status.idle": "2024-03-06T05:07:07.337199Z",
     "shell.execute_reply": "2024-03-06T05:07:07.334862Z",
     "shell.execute_reply.started": "2024-03-06T05:07:07.296329Z"
    },
    "id": "LZ1xZL7XVBUn",
    "outputId": "35875395-a6fa-4741-a9f8-87ff060e9ec9",
    "tags": []
   },
   "outputs": [
    {
     "data": {
      "text/html": [
       "<div>\n",
       "<style scoped>\n",
       "    .dataframe tbody tr th:only-of-type {\n",
       "        vertical-align: middle;\n",
       "    }\n",
       "\n",
       "    .dataframe tbody tr th {\n",
       "        vertical-align: top;\n",
       "    }\n",
       "\n",
       "    .dataframe thead th {\n",
       "        text-align: right;\n",
       "    }\n",
       "</style>\n",
       "<table border=\"1\" class=\"dataframe\">\n",
       "  <thead>\n",
       "    <tr style=\"text-align: right;\">\n",
       "      <th></th>\n",
       "      <th>e</th>\n",
       "    </tr>\n",
       "  </thead>\n",
       "  <tbody>\n",
       "    <tr>\n",
       "      <th>0</th>\n",
       "      <td>(\"player100\")-[:serve@0{end_year: 2016, start_...</td>\n",
       "    </tr>\n",
       "    <tr>\n",
       "      <th>1</th>\n",
       "      <td>(\"player100\")-[:follow@0{degree: 95}]-&gt;(\"playe...</td>\n",
       "    </tr>\n",
       "    <tr>\n",
       "      <th>2</th>\n",
       "      <td>(\"player100\")-[:follow@0{degree: 95}]-&gt;(\"playe...</td>\n",
       "    </tr>\n",
       "    <tr>\n",
       "      <th>3</th>\n",
       "      <td>(\"player101\")-[:serve@0{end_year: 2018, start_...</td>\n",
       "    </tr>\n",
       "    <tr>\n",
       "      <th>4</th>\n",
       "      <td>(\"player101\")-[:serve@0{end_year: 2019, start_...</td>\n",
       "    </tr>\n",
       "    <tr>\n",
       "      <th>5</th>\n",
       "      <td>(\"player101\")-[:follow@0{degree: 95}]-&gt;(\"playe...</td>\n",
       "    </tr>\n",
       "    <tr>\n",
       "      <th>6</th>\n",
       "      <td>(\"player101\")-[:follow@0{degree: 90}]-&gt;(\"playe...</td>\n",
       "    </tr>\n",
       "    <tr>\n",
       "      <th>7</th>\n",
       "      <td>(\"player101\")-[:follow@0{degree: 95}]-&gt;(\"playe...</td>\n",
       "    </tr>\n",
       "    <tr>\n",
       "      <th>8</th>\n",
       "      <td>(\"player102\")-[:serve@0{end_year: 2015, start_...</td>\n",
       "    </tr>\n",
       "    <tr>\n",
       "      <th>9</th>\n",
       "      <td>(\"player102\")-[:serve@0{end_year: 2019, start_...</td>\n",
       "    </tr>\n",
       "    <tr>\n",
       "      <th>10</th>\n",
       "      <td>(\"player102\")-[:follow@0{degree: 75}]-&gt;(\"playe...</td>\n",
       "    </tr>\n",
       "    <tr>\n",
       "      <th>11</th>\n",
       "      <td>(\"player102\")-[:follow@0{degree: 75}]-&gt;(\"playe...</td>\n",
       "    </tr>\n",
       "    <tr>\n",
       "      <th>12</th>\n",
       "      <td>(\"player103\")-[:serve@0{end_year: 2019, start_...</td>\n",
       "    </tr>\n",
       "    <tr>\n",
       "      <th>13</th>\n",
       "      <td>(\"player103\")-[:serve@0{end_year: 2017, start_...</td>\n",
       "    </tr>\n",
       "    <tr>\n",
       "      <th>14</th>\n",
       "      <td>(\"player103\")-[:serve@0{end_year: 2013, start_...</td>\n",
       "    </tr>\n",
       "    <tr>\n",
       "      <th>15</th>\n",
       "      <td>(\"player103\")-[:serve@0{end_year: 2013, start_...</td>\n",
       "    </tr>\n",
       "    <tr>\n",
       "      <th>16</th>\n",
       "      <td>(\"player103\")-[:follow@0{degree: 70}]-&gt;(\"playe...</td>\n",
       "    </tr>\n",
       "    <tr>\n",
       "      <th>17</th>\n",
       "      <td>(\"player104\")-[:serve@0{end_year: 2009, start_...</td>\n",
       "    </tr>\n",
       "    <tr>\n",
       "      <th>18</th>\n",
       "      <td>(\"player104\")-[:serve@0{end_year: 2016, start_...</td>\n",
       "    </tr>\n",
       "    <tr>\n",
       "      <th>19</th>\n",
       "      <td>(\"player104\")-[:serve@0{end_year: 2010, start_...</td>\n",
       "    </tr>\n",
       "    <tr>\n",
       "      <th>20</th>\n",
       "      <td>(\"player104\")-[:serve@0{end_year: 2018, start_...</td>\n",
       "    </tr>\n",
       "    <tr>\n",
       "      <th>21</th>\n",
       "      <td>(\"player104\")-[:serve@0{end_year: 2013, start_...</td>\n",
       "    </tr>\n",
       "    <tr>\n",
       "      <th>22</th>\n",
       "      <td>(\"player104\")-[:serve@0{end_year: 2018, start_...</td>\n",
       "    </tr>\n",
       "    <tr>\n",
       "      <th>23</th>\n",
       "      <td>(\"player104\")-[:serve@20102012{end_year: 2012,...</td>\n",
       "    </tr>\n",
       "    <tr>\n",
       "      <th>24</th>\n",
       "      <td>(\"player104\")-[:serve@20132015{end_year: 2015,...</td>\n",
       "    </tr>\n",
       "    <tr>\n",
       "      <th>25</th>\n",
       "      <td>(\"player104\")-[:serve@20162017{end_year: 2017,...</td>\n",
       "    </tr>\n",
       "    <tr>\n",
       "      <th>26</th>\n",
       "      <td>(\"player104\")-[:serve@20182019{end_year: 2019,...</td>\n",
       "    </tr>\n",
       "    <tr>\n",
       "      <th>27</th>\n",
       "      <td>(\"player104\")-[:follow@0{degree: 55}]-&gt;(\"playe...</td>\n",
       "    </tr>\n",
       "    <tr>\n",
       "      <th>28</th>\n",
       "      <td>(\"player104\")-[:follow@0{degree: 50}]-&gt;(\"playe...</td>\n",
       "    </tr>\n",
       "    <tr>\n",
       "      <th>29</th>\n",
       "      <td>(\"player104\")-[:follow@0{degree: 60}]-&gt;(\"playe...</td>\n",
       "    </tr>\n",
       "  </tbody>\n",
       "</table>\n",
       "</div>"
      ],
      "text/plain": [
       "                                                    e\n",
       "0   (\"player100\")-[:serve@0{end_year: 2016, start_...\n",
       "1   (\"player100\")-[:follow@0{degree: 95}]->(\"playe...\n",
       "2   (\"player100\")-[:follow@0{degree: 95}]->(\"playe...\n",
       "3   (\"player101\")-[:serve@0{end_year: 2018, start_...\n",
       "4   (\"player101\")-[:serve@0{end_year: 2019, start_...\n",
       "5   (\"player101\")-[:follow@0{degree: 95}]->(\"playe...\n",
       "6   (\"player101\")-[:follow@0{degree: 90}]->(\"playe...\n",
       "7   (\"player101\")-[:follow@0{degree: 95}]->(\"playe...\n",
       "8   (\"player102\")-[:serve@0{end_year: 2015, start_...\n",
       "9   (\"player102\")-[:serve@0{end_year: 2019, start_...\n",
       "10  (\"player102\")-[:follow@0{degree: 75}]->(\"playe...\n",
       "11  (\"player102\")-[:follow@0{degree: 75}]->(\"playe...\n",
       "12  (\"player103\")-[:serve@0{end_year: 2019, start_...\n",
       "13  (\"player103\")-[:serve@0{end_year: 2017, start_...\n",
       "14  (\"player103\")-[:serve@0{end_year: 2013, start_...\n",
       "15  (\"player103\")-[:serve@0{end_year: 2013, start_...\n",
       "16  (\"player103\")-[:follow@0{degree: 70}]->(\"playe...\n",
       "17  (\"player104\")-[:serve@0{end_year: 2009, start_...\n",
       "18  (\"player104\")-[:serve@0{end_year: 2016, start_...\n",
       "19  (\"player104\")-[:serve@0{end_year: 2010, start_...\n",
       "20  (\"player104\")-[:serve@0{end_year: 2018, start_...\n",
       "21  (\"player104\")-[:serve@0{end_year: 2013, start_...\n",
       "22  (\"player104\")-[:serve@0{end_year: 2018, start_...\n",
       "23  (\"player104\")-[:serve@20102012{end_year: 2012,...\n",
       "24  (\"player104\")-[:serve@20132015{end_year: 2015,...\n",
       "25  (\"player104\")-[:serve@20162017{end_year: 2017,...\n",
       "26  (\"player104\")-[:serve@20182019{end_year: 2019,...\n",
       "27  (\"player104\")-[:follow@0{degree: 55}]->(\"playe...\n",
       "28  (\"player104\")-[:follow@0{degree: 50}]->(\"playe...\n",
       "29  (\"player104\")-[:follow@0{degree: 60}]->(\"playe..."
      ]
     },
     "execution_count": 10,
     "metadata": {},
     "output_type": "execute_result"
    }
   ],
   "source": [
    "%%ngql\n",
    "MATCH ()-[e]->() RETURN e LIMIT 30"
   ]
  },
  {
   "cell_type": "markdown",
   "metadata": {},
   "source": [
    "Let's draw the last Query with `%ng_draw`"
   ]
  },
  {
   "cell_type": "code",
   "execution_count": 11,
   "metadata": {
    "colab": {
     "base_uri": "https://localhost:8080/",
     "height": 551
    },
    "execution": {
     "iopub.execute_input": "2024-03-06T05:07:37.673073Z",
     "iopub.status.busy": "2024-03-06T05:07:37.672046Z",
     "iopub.status.idle": "2024-03-06T05:07:37.861789Z",
     "shell.execute_reply": "2024-03-06T05:07:37.859358Z",
     "shell.execute_reply.started": "2024-03-06T05:07:37.672988Z"
    },
    "id": "fQb_zS7oVHvT",
    "outputId": "25115c50-6934-4492-8681-921490915067",
    "tags": []
   },
   "outputs": [
    {
     "data": {
      "text/html": [
       "\n",
       "        <iframe\n",
       "            width=\"100%\"\n",
       "            height=\"500px\"\n",
       "            src=\"nebulagraph.html\"\n",
       "            frameborder=\"0\"\n",
       "            allowfullscreen\n",
       "            \n",
       "        ></iframe>\n",
       "        "
      ],
      "text/plain": [
       "<IPython.lib.display.IFrame at 0x7fc41cc7f910>"
      ]
     },
     "metadata": {},
     "output_type": "display_data"
    },
    {
     "data": {
      "text/plain": [
       "<class 'pyvis.network.Network'> |N|=17 |E|=30"
      ]
     },
     "execution_count": 11,
     "metadata": {},
     "output_type": "execute_result"
    }
   ],
   "source": [
    "%ng_draw"
   ]
  },
  {
   "cell_type": "markdown",
   "metadata": {},
   "source": [
    "We could also inspect graph schema with `%ng_draw_schema`"
   ]
  },
  {
   "cell_type": "code",
   "execution_count": 12,
   "metadata": {
    "execution": {
     "iopub.execute_input": "2024-03-06T05:07:45.404469Z",
     "iopub.status.busy": "2024-03-06T05:07:45.403371Z",
     "iopub.status.idle": "2024-03-06T05:07:46.032878Z",
     "shell.execute_reply": "2024-03-06T05:07:46.031283Z",
     "shell.execute_reply.started": "2024-03-06T05:07:45.404383Z"
    },
    "id": "FKXupDbtVS1Q",
    "tags": []
   },
   "outputs": [
    {
     "data": {
      "text/html": [
       "\n",
       "        <iframe\n",
       "            width=\"100%\"\n",
       "            height=\"500px\"\n",
       "            src=\"nebulagraph_schema.html\"\n",
       "            frameborder=\"0\"\n",
       "            allowfullscreen\n",
       "            \n",
       "        ></iframe>\n",
       "        "
      ],
      "text/plain": [
       "<IPython.lib.display.IFrame at 0x7fc41cd5b880>"
      ]
     },
     "metadata": {},
     "output_type": "display_data"
    },
    {
     "data": {
      "text/plain": [
       "<class 'pyvis.network.Network'> |N|=2 |E|=2"
      ]
     },
     "execution_count": 12,
     "metadata": {},
     "output_type": "execute_result"
    }
   ],
   "source": [
    "%ng_draw_schema"
   ]
  },
  {
   "cell_type": "markdown",
   "metadata": {},
   "source": [
    "## Try Graph Algorithm on NebulaGraph\n",
    "\n",
    "We'll leverage NetworkX and NebulaGraph-NX\n",
    "\n",
    "- https://networkx.org/\n",
    "- https://github.com/wey-gu/NebulaGraph-nx"
   ]
  },
  {
   "cell_type": "code",
   "execution_count": 13,
   "metadata": {
    "execution": {
     "iopub.execute_input": "2024-03-06T05:07:57.331299Z",
     "iopub.status.busy": "2024-03-06T05:07:57.330318Z",
     "iopub.status.idle": "2024-03-06T05:08:05.070177Z",
     "shell.execute_reply": "2024-03-06T05:08:05.068352Z",
     "shell.execute_reply.started": "2024-03-06T05:07:57.331113Z"
    },
    "tags": []
   },
   "outputs": [
    {
     "name": "stdout",
     "output_type": "stream",
     "text": [
      "Looking in indexes: https://mirrors.aliyun.com/pypi/simple\n",
      "Collecting ng_nx\n",
      "  Downloading https://mirrors.aliyun.com/pypi/packages/ce/57/6dae3de7a99613ab7a79ae55ad698b21a1ac5e71af62abc4190299916543/ng_nx-0.1.9-py3-none-any.whl (11 kB)\n",
      "Requirement already satisfied: nebula3-python>=3.4.0 in /opt/conda/lib/python3.10/site-packages (from ng_nx) (3.5.0)\n",
      "Requirement already satisfied: networkx>=2.5.1 in /opt/conda/lib/python3.10/site-packages (from ng_nx) (2.8.4)\n",
      "Requirement already satisfied: numpy>=1.21.6 in /opt/conda/lib/python3.10/site-packages (from ng_nx) (1.26.3)\n",
      "Requirement already satisfied: pandas>=1.3.5 in /opt/conda/lib/python3.10/site-packages (from ng_nx) (2.1.4)\n",
      "Collecting python-louvain>=0.16 (from ng_nx)\n",
      "  Downloading https://mirrors.aliyun.com/pypi/packages/7c/0d/8787b021d52eb8764c0bb18ab95f720cf554902044c6a5cb1865daf45763/python-louvain-0.16.tar.gz (204 kB)\n",
      "\u001b[2K     \u001b[90m━━━━━━━━━━━━━━━━━━━━━━━━━━━━━━━━━━━━━━\u001b[0m \u001b[32m204.6/204.6 kB\u001b[0m \u001b[31m11.8 MB/s\u001b[0m eta \u001b[36m0:00:00\u001b[0m\n",
      "\u001b[?25h  Preparing metadata (setup.py) ... \u001b[?25ldone\n",
      "\u001b[?25hRequirement already satisfied: scipy>=1.7.3 in /opt/conda/lib/python3.10/site-packages (from ng_nx) (1.11.4)\n",
      "Requirement already satisfied: future>=0.18.0 in /opt/conda/lib/python3.10/site-packages (from nebula3-python>=3.4.0->ng_nx) (0.18.3)\n",
      "Requirement already satisfied: httplib2>=0.20.0 in /opt/conda/lib/python3.10/site-packages (from nebula3-python>=3.4.0->ng_nx) (0.22.0)\n",
      "Requirement already satisfied: pytz>=2021.1 in /opt/conda/lib/python3.10/site-packages (from nebula3-python>=3.4.0->ng_nx) (2023.3.post1)\n",
      "Requirement already satisfied: six>=1.16.0 in /opt/conda/lib/python3.10/site-packages (from nebula3-python>=3.4.0->ng_nx) (1.16.0)\n",
      "Requirement already satisfied: python-dateutil>=2.8.2 in /opt/conda/lib/python3.10/site-packages (from pandas>=1.3.5->ng_nx) (2.8.2)\n",
      "Requirement already satisfied: tzdata>=2022.1 in /opt/conda/lib/python3.10/site-packages (from pandas>=1.3.5->ng_nx) (2023.4)\n",
      "Requirement already satisfied: pyparsing!=3.0.0,!=3.0.1,!=3.0.2,!=3.0.3,<4,>=2.4.2 in /opt/conda/lib/python3.10/site-packages (from httplib2>=0.20.0->nebula3-python>=3.4.0->ng_nx) (3.1.1)\n",
      "Building wheels for collected packages: python-louvain\n",
      "  Building wheel for python-louvain (setup.py) ... \u001b[?25ldone\n",
      "\u001b[?25h  Created wheel for python-louvain: filename=python_louvain-0.16-py3-none-any.whl size=9408 sha256=8dc6b46adafa7592940419bfe8f2eeadacac6efc265b62abfc0d2111e25bd4aa\n",
      "  Stored in directory: /root/.cache/pip/wheels/51/8f/d4/a04fcbd0f724a5a73ad30c04777628bd3668a54acd2dbdb9be\n",
      "Successfully built python-louvain\n",
      "\u001b[33mDEPRECATION: pytorch-lightning 1.7.7 has a non-standard dependency specifier torch>=1.9.*. pip 24.0 will enforce this behaviour change. A possible replacement is to upgrade to a newer version of pytorch-lightning or contact the author to suggest that they release a version with a conforming dependency specifiers. Discussion can be found at https://github.com/pypa/pip/issues/12063\u001b[0m\u001b[33m\n",
      "\u001b[0mInstalling collected packages: python-louvain, ng_nx\n",
      "Successfully installed ng_nx-0.1.9 python-louvain-0.16\n",
      "\u001b[33mWARNING: Running pip as the 'root' user can result in broken permissions and conflicting behaviour with the system package manager. It is recommended to use a virtual environment instead: https://pip.pypa.io/warnings/venv\u001b[0m\u001b[33m\n",
      "\u001b[0m\n",
      "\u001b[1m[\u001b[0m\u001b[34;49mnotice\u001b[0m\u001b[1;39;49m]\u001b[0m\u001b[39;49m A new release of pip is available: \u001b[0m\u001b[31;49m23.3.2\u001b[0m\u001b[39;49m -> \u001b[0m\u001b[32;49m24.0\u001b[0m\n",
      "\u001b[1m[\u001b[0m\u001b[34;49mnotice\u001b[0m\u001b[1;39;49m]\u001b[0m\u001b[39;49m To update, run: \u001b[0m\u001b[32;49mpip install --upgrade pip\u001b[0m\n",
      "Note: you may need to restart the kernel to use updated packages.\n"
     ]
    }
   ],
   "source": [
    "%pip install ng_nx"
   ]
  },
  {
   "cell_type": "code",
   "execution_count": 14,
   "metadata": {
    "execution": {
     "iopub.execute_input": "2024-03-06T05:08:08.845422Z",
     "iopub.status.busy": "2024-03-06T05:08:08.844232Z",
     "iopub.status.idle": "2024-03-06T05:08:09.153794Z",
     "shell.execute_reply": "2024-03-06T05:08:09.151686Z",
     "shell.execute_reply.started": "2024-03-06T05:08:08.845333Z"
    },
    "tags": []
   },
   "outputs": [],
   "source": [
    "from ng_nx import NebulaReader\n",
    "from ng_nx.utils import NebulaGraphConfig\n",
    "\n",
    "import networkx as nx\n",
    "\n",
    "config = NebulaGraphConfig(\n",
    "    space=\"basketballplayer\",\n",
    "    graphd_hosts=\"127.0.0.1:9669\",\n",
    "    metad_hosts=\"127.0.0.1:9559\",\n",
    ")\n",
    "\n",
    "reader = NebulaReader(\n",
    "    edges=[\"follow\", \"serve\"],\n",
    "    properties=[[\"degree\"], [\"start_year\", \"end_year\"]],\n",
    "    nebula_config=config,\n",
    "    limit=10000,\n",
    ")\n",
    "\n",
    "g = reader.read()\n",
    "\n",
    "pr = nx.pagerank(g, alpha=0.85, max_iter=100, tol=1e-06, weight=\"degree\")"
   ]
  },
  {
   "cell_type": "code",
   "execution_count": 15,
   "metadata": {
    "execution": {
     "iopub.execute_input": "2024-03-06T05:08:11.318533Z",
     "iopub.status.busy": "2024-03-06T05:08:11.317443Z",
     "iopub.status.idle": "2024-03-06T05:08:11.344383Z",
     "shell.execute_reply": "2024-03-06T05:08:11.342305Z",
     "shell.execute_reply.started": "2024-03-06T05:08:11.318453Z"
    },
    "tags": []
   },
   "outputs": [
    {
     "data": {
      "text/html": [
       "<div>\n",
       "<style scoped>\n",
       "    .dataframe tbody tr th:only-of-type {\n",
       "        vertical-align: middle;\n",
       "    }\n",
       "\n",
       "    .dataframe tbody tr th {\n",
       "        vertical-align: top;\n",
       "    }\n",
       "\n",
       "    .dataframe thead th {\n",
       "        text-align: right;\n",
       "    }\n",
       "</style>\n",
       "<table border=\"1\" class=\"dataframe\">\n",
       "  <thead>\n",
       "    <tr style=\"text-align: right;\">\n",
       "      <th></th>\n",
       "    </tr>\n",
       "  </thead>\n",
       "  <tbody>\n",
       "  </tbody>\n",
       "</table>\n",
       "</div>"
      ],
      "text/plain": [
       "Empty DataFrame\n",
       "Columns: []\n",
       "Index: []"
      ]
     },
     "execution_count": 15,
     "metadata": {},
     "output_type": "execute_result"
    }
   ],
   "source": [
    "%%ngql\n",
    "\n",
    "CREATE TAG IF NOT EXISTS pagerank (\n",
    "    pagerank double NOT NULL\n",
    ");"
   ]
  },
  {
   "cell_type": "code",
   "execution_count": 16,
   "metadata": {
    "execution": {
     "iopub.execute_input": "2024-03-06T05:08:12.754110Z",
     "iopub.status.busy": "2024-03-06T05:08:12.753046Z",
     "iopub.status.idle": "2024-03-06T05:08:12.780820Z",
     "shell.execute_reply": "2024-03-06T05:08:12.778519Z",
     "shell.execute_reply.started": "2024-03-06T05:08:12.754033Z"
    },
    "tags": []
   },
   "outputs": [
    {
     "data": {
      "text/html": [
       "<div>\n",
       "<style scoped>\n",
       "    .dataframe tbody tr th:only-of-type {\n",
       "        vertical-align: middle;\n",
       "    }\n",
       "\n",
       "    .dataframe tbody tr th {\n",
       "        vertical-align: top;\n",
       "    }\n",
       "\n",
       "    .dataframe thead th {\n",
       "        text-align: right;\n",
       "    }\n",
       "</style>\n",
       "<table border=\"1\" class=\"dataframe\">\n",
       "  <thead>\n",
       "    <tr style=\"text-align: right;\">\n",
       "      <th></th>\n",
       "      <th>Name</th>\n",
       "    </tr>\n",
       "  </thead>\n",
       "  <tbody>\n",
       "    <tr>\n",
       "      <th>0</th>\n",
       "      <td>pagerank</td>\n",
       "    </tr>\n",
       "    <tr>\n",
       "      <th>1</th>\n",
       "      <td>player</td>\n",
       "    </tr>\n",
       "    <tr>\n",
       "      <th>2</th>\n",
       "      <td>team</td>\n",
       "    </tr>\n",
       "  </tbody>\n",
       "</table>\n",
       "</div>"
      ],
      "text/plain": [
       "       Name\n",
       "0  pagerank\n",
       "1    player\n",
       "2      team"
      ]
     },
     "execution_count": 16,
     "metadata": {},
     "output_type": "execute_result"
    }
   ],
   "source": [
    "%ngql SHOW TAGS"
   ]
  },
  {
   "cell_type": "code",
   "execution_count": 17,
   "metadata": {
    "execution": {
     "iopub.execute_input": "2024-03-06T05:08:14.638501Z",
     "iopub.status.busy": "2024-03-06T05:08:14.637546Z",
     "iopub.status.idle": "2024-03-06T05:08:14.666318Z",
     "shell.execute_reply": "2024-03-06T05:08:14.664272Z",
     "shell.execute_reply.started": "2024-03-06T05:08:14.638433Z"
    },
    "tags": []
   },
   "outputs": [
    {
     "data": {
      "text/plain": [
       "True"
      ]
     },
     "execution_count": 17,
     "metadata": {},
     "output_type": "execute_result"
    }
   ],
   "source": [
    "from ng_nx import NebulaWriter\n",
    "\n",
    "pr_writer = NebulaWriter(data=pr, nebula_config=config)\n",
    "\n",
    "# properties to write\n",
    "properties = [\"pagerank\"]\n",
    "\n",
    "pr_writer.set_options(\n",
    "    label=\"pagerank\",\n",
    "    properties=properties,\n",
    "    batch_size=256,\n",
    "    write_mode=\"insert\",\n",
    "    sink=\"nebulagraph_vertex\",\n",
    ")\n",
    "# write back to NebulaGraph\n",
    "pr_writer.write()"
   ]
  },
  {
   "cell_type": "code",
   "execution_count": 18,
   "metadata": {
    "execution": {
     "iopub.execute_input": "2024-03-06T05:08:16.914745Z",
     "iopub.status.busy": "2024-03-06T05:08:16.913767Z",
     "iopub.status.idle": "2024-03-06T05:08:16.966488Z",
     "shell.execute_reply": "2024-03-06T05:08:16.964741Z",
     "shell.execute_reply.started": "2024-03-06T05:08:16.914649Z"
    },
    "tags": []
   },
   "outputs": [
    {
     "data": {
      "text/html": [
       "<div>\n",
       "<style scoped>\n",
       "    .dataframe tbody tr th:only-of-type {\n",
       "        vertical-align: middle;\n",
       "    }\n",
       "\n",
       "    .dataframe tbody tr th {\n",
       "        vertical-align: top;\n",
       "    }\n",
       "\n",
       "    .dataframe thead th {\n",
       "        text-align: right;\n",
       "    }\n",
       "</style>\n",
       "<table border=\"1\" class=\"dataframe\">\n",
       "  <thead>\n",
       "    <tr style=\"text-align: right;\">\n",
       "      <th></th>\n",
       "      <th>p</th>\n",
       "    </tr>\n",
       "  </thead>\n",
       "  <tbody>\n",
       "    <tr>\n",
       "      <th>0</th>\n",
       "      <td>(\"player150\" :player{age: 20, name: \"Luka Donc...</td>\n",
       "    </tr>\n",
       "    <tr>\n",
       "      <th>1</th>\n",
       "      <td>(\"player150\" :player{age: 20, name: \"Luka Donc...</td>\n",
       "    </tr>\n",
       "    <tr>\n",
       "      <th>2</th>\n",
       "      <td>(\"player150\" :player{age: 20, name: \"Luka Donc...</td>\n",
       "    </tr>\n",
       "    <tr>\n",
       "      <th>3</th>\n",
       "      <td>(\"player150\" :player{age: 20, name: \"Luka Donc...</td>\n",
       "    </tr>\n",
       "    <tr>\n",
       "      <th>4</th>\n",
       "      <td>(\"player149\" :player{age: 22, name: \"Ben Simmo...</td>\n",
       "    </tr>\n",
       "    <tr>\n",
       "      <th>5</th>\n",
       "      <td>(\"player149\" :player{age: 22, name: \"Ben Simmo...</td>\n",
       "    </tr>\n",
       "    <tr>\n",
       "      <th>6</th>\n",
       "      <td>(\"player147\" :player{age: 36, name: \"Amar'e St...</td>\n",
       "    </tr>\n",
       "    <tr>\n",
       "      <th>7</th>\n",
       "      <td>(\"player147\" :player{age: 36, name: \"Amar'e St...</td>\n",
       "    </tr>\n",
       "    <tr>\n",
       "      <th>8</th>\n",
       "      <td>(\"player147\" :player{age: 36, name: \"Amar'e St...</td>\n",
       "    </tr>\n",
       "    <tr>\n",
       "      <th>9</th>\n",
       "      <td>(\"player147\" :player{age: 36, name: \"Amar'e St...</td>\n",
       "    </tr>\n",
       "    <tr>\n",
       "      <th>10</th>\n",
       "      <td>(\"player148\" :player{age: 45, name: \"Jason Kid...</td>\n",
       "    </tr>\n",
       "    <tr>\n",
       "      <th>11</th>\n",
       "      <td>(\"player148\" :player{age: 45, name: \"Jason Kid...</td>\n",
       "    </tr>\n",
       "    <tr>\n",
       "      <th>12</th>\n",
       "      <td>(\"player148\" :player{age: 45, name: \"Jason Kid...</td>\n",
       "    </tr>\n",
       "    <tr>\n",
       "      <th>13</th>\n",
       "      <td>(\"player148\" :player{age: 45, name: \"Jason Kid...</td>\n",
       "    </tr>\n",
       "    <tr>\n",
       "      <th>14</th>\n",
       "      <td>(\"player148\" :player{age: 45, name: \"Jason Kid...</td>\n",
       "    </tr>\n",
       "    <tr>\n",
       "      <th>15</th>\n",
       "      <td>(\"player148\" :player{age: 45, name: \"Jason Kid...</td>\n",
       "    </tr>\n",
       "    <tr>\n",
       "      <th>16</th>\n",
       "      <td>(\"player148\" :player{age: 45, name: \"Jason Kid...</td>\n",
       "    </tr>\n",
       "    <tr>\n",
       "      <th>17</th>\n",
       "      <td>(\"player148\" :player{age: 45, name: \"Jason Kid...</td>\n",
       "    </tr>\n",
       "    <tr>\n",
       "      <th>18</th>\n",
       "      <td>(\"player146\" :player{age: 33, name: \"Dwight Ho...</td>\n",
       "    </tr>\n",
       "    <tr>\n",
       "      <th>19</th>\n",
       "      <td>(\"player146\" :player{age: 33, name: \"Dwight Ho...</td>\n",
       "    </tr>\n",
       "    <tr>\n",
       "      <th>20</th>\n",
       "      <td>(\"player146\" :player{age: 33, name: \"Dwight Ho...</td>\n",
       "    </tr>\n",
       "    <tr>\n",
       "      <th>21</th>\n",
       "      <td>(\"player146\" :player{age: 33, name: \"Dwight Ho...</td>\n",
       "    </tr>\n",
       "    <tr>\n",
       "      <th>22</th>\n",
       "      <td>(\"player146\" :player{age: 33, name: \"Dwight Ho...</td>\n",
       "    </tr>\n",
       "    <tr>\n",
       "      <th>23</th>\n",
       "      <td>(\"player146\" :player{age: 33, name: \"Dwight Ho...</td>\n",
       "    </tr>\n",
       "    <tr>\n",
       "      <th>24</th>\n",
       "      <td>(\"player145\" :player{age: 31, name: \"JaVale Mc...</td>\n",
       "    </tr>\n",
       "    <tr>\n",
       "      <th>25</th>\n",
       "      <td>(\"player145\" :player{age: 31, name: \"JaVale Mc...</td>\n",
       "    </tr>\n",
       "    <tr>\n",
       "      <th>26</th>\n",
       "      <td>(\"player145\" :player{age: 31, name: \"JaVale Mc...</td>\n",
       "    </tr>\n",
       "    <tr>\n",
       "      <th>27</th>\n",
       "      <td>(\"player145\" :player{age: 31, name: \"JaVale Mc...</td>\n",
       "    </tr>\n",
       "    <tr>\n",
       "      <th>28</th>\n",
       "      <td>(\"player145\" :player{age: 31, name: \"JaVale Mc...</td>\n",
       "    </tr>\n",
       "    <tr>\n",
       "      <th>29</th>\n",
       "      <td>(\"player144\" :player{age: 47, name: \"Shaquille...</td>\n",
       "    </tr>\n",
       "  </tbody>\n",
       "</table>\n",
       "</div>"
      ],
      "text/plain": [
       "                                                    p\n",
       "0   (\"player150\" :player{age: 20, name: \"Luka Donc...\n",
       "1   (\"player150\" :player{age: 20, name: \"Luka Donc...\n",
       "2   (\"player150\" :player{age: 20, name: \"Luka Donc...\n",
       "3   (\"player150\" :player{age: 20, name: \"Luka Donc...\n",
       "4   (\"player149\" :player{age: 22, name: \"Ben Simmo...\n",
       "5   (\"player149\" :player{age: 22, name: \"Ben Simmo...\n",
       "6   (\"player147\" :player{age: 36, name: \"Amar'e St...\n",
       "7   (\"player147\" :player{age: 36, name: \"Amar'e St...\n",
       "8   (\"player147\" :player{age: 36, name: \"Amar'e St...\n",
       "9   (\"player147\" :player{age: 36, name: \"Amar'e St...\n",
       "10  (\"player148\" :player{age: 45, name: \"Jason Kid...\n",
       "11  (\"player148\" :player{age: 45, name: \"Jason Kid...\n",
       "12  (\"player148\" :player{age: 45, name: \"Jason Kid...\n",
       "13  (\"player148\" :player{age: 45, name: \"Jason Kid...\n",
       "14  (\"player148\" :player{age: 45, name: \"Jason Kid...\n",
       "15  (\"player148\" :player{age: 45, name: \"Jason Kid...\n",
       "16  (\"player148\" :player{age: 45, name: \"Jason Kid...\n",
       "17  (\"player148\" :player{age: 45, name: \"Jason Kid...\n",
       "18  (\"player146\" :player{age: 33, name: \"Dwight Ho...\n",
       "19  (\"player146\" :player{age: 33, name: \"Dwight Ho...\n",
       "20  (\"player146\" :player{age: 33, name: \"Dwight Ho...\n",
       "21  (\"player146\" :player{age: 33, name: \"Dwight Ho...\n",
       "22  (\"player146\" :player{age: 33, name: \"Dwight Ho...\n",
       "23  (\"player146\" :player{age: 33, name: \"Dwight Ho...\n",
       "24  (\"player145\" :player{age: 31, name: \"JaVale Mc...\n",
       "25  (\"player145\" :player{age: 31, name: \"JaVale Mc...\n",
       "26  (\"player145\" :player{age: 31, name: \"JaVale Mc...\n",
       "27  (\"player145\" :player{age: 31, name: \"JaVale Mc...\n",
       "28  (\"player145\" :player{age: 31, name: \"JaVale Mc...\n",
       "29  (\"player144\" :player{age: 47, name: \"Shaquille..."
      ]
     },
     "execution_count": 18,
     "metadata": {},
     "output_type": "execute_result"
    }
   ],
   "source": [
    "%ngql MATCH p=()-->() RETURN p LIMIT 30"
   ]
  },
  {
   "cell_type": "markdown",
   "metadata": {},
   "source": [
    "We could see there is pagerank for all vertices, we could also render this graph with `%ng_draw`"
   ]
  },
  {
   "cell_type": "code",
   "execution_count": 19,
   "metadata": {
    "execution": {
     "iopub.execute_input": "2024-03-06T05:08:26.860865Z",
     "iopub.status.busy": "2024-03-06T05:08:26.859859Z",
     "iopub.status.idle": "2024-03-06T05:08:27.038104Z",
     "shell.execute_reply": "2024-03-06T05:08:27.035651Z",
     "shell.execute_reply.started": "2024-03-06T05:08:26.860785Z"
    },
    "tags": []
   },
   "outputs": [
    {
     "data": {
      "text/html": [
       "\n",
       "        <iframe\n",
       "            width=\"100%\"\n",
       "            height=\"500px\"\n",
       "            src=\"nebulagraph.html\"\n",
       "            frameborder=\"0\"\n",
       "            allowfullscreen\n",
       "            \n",
       "        ></iframe>\n",
       "        "
      ],
      "text/plain": [
       "<IPython.lib.display.IFrame at 0x7fc2bcf83730>"
      ]
     },
     "metadata": {},
     "output_type": "display_data"
    },
    {
     "data": {
      "text/plain": [
       "<class 'pyvis.network.Network'> |N|=28 |E|=30"
      ]
     },
     "execution_count": 19,
     "metadata": {},
     "output_type": "execute_result"
    }
   ],
   "source": [
    "%ng_draw"
   ]
  },
  {
   "cell_type": "code",
   "execution_count": null,
   "metadata": {},
   "outputs": [],
   "source": []
  }
 ],
 "metadata": {
  "colab": {
   "provenance": []
  },
  "kernelspec": {
   "display_name": "Python 3 (ipykernel)",
   "language": "python",
   "name": "python3"
  },
  "language_info": {
   "codemirror_mode": {
    "name": "ipython",
    "version": 3
   },
   "file_extension": ".py",
   "mimetype": "text/x-python",
   "name": "python",
   "nbconvert_exporter": "python",
   "pygments_lexer": "ipython3",
   "version": "3.10.13"
  }
 },
 "nbformat": 4,
 "nbformat_minor": 4
}
